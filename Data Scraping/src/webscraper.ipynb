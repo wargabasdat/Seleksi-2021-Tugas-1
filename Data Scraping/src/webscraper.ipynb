{
 "metadata": {
  "language_info": {
   "codemirror_mode": {
    "name": "ipython",
    "version": 3
   },
   "file_extension": ".py",
   "mimetype": "text/x-python",
   "name": "python",
   "nbconvert_exporter": "python",
   "pygments_lexer": "ipython3",
   "version": "3.9.2"
  },
  "orig_nbformat": 4,
  "kernelspec": {
   "name": "python3",
   "display_name": "Python 3.9.2 64-bit"
  },
  "interpreter": {
   "hash": "63fd5069d213b44bf678585dea6b12cceca9941eaf7f819626cde1f2670de90d"
  }
 },
 "nbformat": 4,
 "nbformat_minor": 2,
 "cells": [
  {
   "cell_type": "markdown",
   "source": [
    "## Rumah123 Web Scraper\r\n",
    "### Ida Bagus Raditya Avanindra Mahaputra / 18219117\r\n",
    "### Tugas Calon Asisten Lab Basis Data"
   ],
   "metadata": {}
  },
  {
   "cell_type": "markdown",
   "source": [
    "## Import all necessary libraries"
   ],
   "metadata": {}
  },
  {
   "cell_type": "code",
   "execution_count": 26,
   "source": [
    "import bs4\r\n",
    "from urllib.request import urlopen as uReq, Request\r\n",
    "from bs4 import BeautifulSoup as soup\r\n",
    "import time\r\n",
    "from tqdm import tqdm\r\n",
    "import json"
   ],
   "outputs": [],
   "metadata": {}
  },
  {
   "cell_type": "code",
   "execution_count": 27,
   "source": [
    "from geopy.geocoders import Nominatim\r\n",
    "geocoder = Nominatim(user_agent = 'rumah123scraper')"
   ],
   "outputs": [],
   "metadata": {}
  },
  {
   "cell_type": "markdown",
   "source": [
    "## Create House Data Class"
   ],
   "metadata": {}
  },
  {
   "cell_type": "code",
   "execution_count": 28,
   "source": [
    "class HouseData:\r\n",
    "    def __init__(self,property_title, property_agent,location,latitude,longitude,phone_number,property_type,land_area,building_area,price_idr,num_bathroom,num_bedroom,garage_capacity):\r\n",
    "        self.property_title=property_title\r\n",
    "        self.property_agent=property_agent\r\n",
    "        self.location=location\r\n",
    "        self.latitude=latitude\r\n",
    "        self.longitude=longitude\r\n",
    "        self.phone_number=phone_number\r\n",
    "        self.property_type=property_type\r\n",
    "        self.land_area=land_area\r\n",
    "        self.building_area=building_area\r\n",
    "        self.price_idr=price_idr\r\n",
    "        self.num_bathroom=num_bathroom\r\n",
    "        self.num_bedroom=num_bedroom\r\n",
    "        self.garage_capacity=garage_capacity\r\n",
    "\r\n",
    "    def printObject(self):\r\n",
    "        print(f'''\r\n",
    "            Title : {self.property_title}\r\n",
    "            Agen: {self.property_agent}\r\n",
    "            Location : {self.location}\r\n",
    "            Latitude: {self.latitude}\r\n",
    "            Longitude: {self.longitude}\r\n",
    "            Phone number: {self.phone_number}\r\n",
    "            Type : {self.property_type}\r\n",
    "            LT : {self.land_area}\r\n",
    "            LB : {self.building_area}\r\n",
    "            price : {self.price_idr}\r\n",
    "            KM: {self.num_bathroom}\r\n",
    "            KT: {self.num_bedroom}\r\n",
    "            Kapasitas Garasi Mobil: {self.garage_capacity}\r\n",
    "            ''')"
   ],
   "outputs": [],
   "metadata": {}
  },
  {
   "cell_type": "markdown",
   "source": [
    "## Create functions for data manipulation"
   ],
   "metadata": {}
  },
  {
   "cell_type": "code",
   "execution_count": 29,
   "source": [
    "def convert_harga_to_int(str):\r\n",
    "    # format \"Rp. 700 Jt\" atau \"Rp. 35 M\" atau \"Rp. 355\"\r\n",
    "    str = str.replace(\",\", \".\") # mengubah koma menjadi titik untuk kebutuhan lfoat\r\n",
    "    str_split = str.split()\r\n",
    "\r\n",
    "    if len(str_split)<=2:\r\n",
    "        # harga hanya mengambil bentuk integer dari indeks ke 1\r\n",
    "        harga = int(float(str_split[1])*1000000) #asumsi semua dalam satuan juta\r\n",
    "        return harga\r\n",
    "    else:\r\n",
    "        # len dari listnya >=3 (ada Jt atau M)\r\n",
    "        if str_split[2].lower() == 'jt':\r\n",
    "            harga = int(float(str_split[1])*1000000)\r\n",
    "            return harga\r\n",
    "        elif str_split[2].lower() == 'm':\r\n",
    "            harga = int(float(str_split[1])*1000000000)\r\n",
    "            return harga"
   ],
   "outputs": [],
   "metadata": {}
  },
  {
   "cell_type": "markdown",
   "source": [
    "## Create function to scrape the website\r\n",
    "\r\n",
    "This function scrapes the website and creates an object based on the values it got. While scraping, the functions also preprocess the data so no null/bad values is added to the object list"
   ],
   "metadata": {}
  },
  {
   "cell_type": "code",
   "execution_count": 51,
   "source": [
    "def scrapeweb(listOfHouse, firstpage, lastpage):\r\n",
    "    \r\n",
    "    i = firstpage\r\n",
    "    while i < lastpage+1:\r\n",
    "        try: \r\n",
    "            # declare the url for the website\r\n",
    "            base_url_rumah123 = \"https://www.rumah123.com/jual/rumah/\" +\"?page=\" + str(i) # firstpage as page param\r\n",
    "            header = {'user-agent': 'Mozilla/5.0 (Windows NT 10.0; Win64; x64)'} # ini aku gapake perkenalan karena kirain gara2 tau ini \"Tugus\", di block\r\n",
    "            request = Request(base_url_rumah123, headers = header)\r\n",
    "            uClient = uReq(request)\r\n",
    "            html_page = uClient.read()\r\n",
    "            uClient.close()\r\n",
    "            soup_page = soup(html_page, \"lxml\")\r\n",
    "\r\n",
    "            print(f'Scraping {base_url_rumah123} ...\\n')\r\n",
    "            property_list = soup_page.findAll('div', class_='sc-fubCfw irPtrP')\r\n",
    "\r\n",
    "            for prop in tqdm(property_list):\r\n",
    "                try:\r\n",
    "                    # listing property infos\r\n",
    "                    property_featured_title = prop.find('div', class_='ui-organisms-card-r123-featured__title-info truncate relative ui-col')\r\n",
    "                    property_title = property_featured_title.find('span', class_='ui-atomic-text ui-atomic-text--styling-heading-6 ui-atomic-text--typeface-primary ui-atomic-link--children').text\r\n",
    "\r\n",
    "                    # bathroom, bedroom, and garage capacity\r\n",
    "                    property_featured_bottom = prop.find('div', class_='ui-organisms-card-r123-featured__bottom-row flex flex-row flex-wrap ui-row flex-align-end flex-justify-between')\r\n",
    "                    # array of max 3 elements (km kt g)\r\n",
    "                    property_element = property_featured_bottom.findAll('span', 'ui-atomic-text ui-atomic-text--styling-default ui-atomic-text--typeface-primary ui-atomic-link--children') \r\n",
    "                    km = 0 if len(property_element) < 1 else int(property_element[0].text)\r\n",
    "                    kt = 0 if len(property_element) < 2 else int(property_element[1].text)\r\n",
    "                    garasi = 0 if len(property_element) < 3 else int(property_element[2].text)\r\n",
    "\r\n",
    "                    # info regarding land and building area\r\n",
    "                    property_area = prop.find('div', class_= 'flex ui-molecules-list__divider-line--horizontal flex-align-center flex-row flex-wrap relative ui-molecules-list')\r\n",
    "                    # LT = Luas tanah, LB = Luas bangunan\r\n",
    "                    try:\r\n",
    "                        property_LT = property_area.text.split()[3]\r\n",
    "                    except IndexError:\r\n",
    "                        property_LT = 0\r\n",
    "                    try:\r\n",
    "                        property_LB = property_area.text.split()[7]\r\n",
    "                    except IndexError:\r\n",
    "                        property_LB = 0\r\n",
    "\r\n",
    "                    if (km != 0 and kt != 0) and (property_LT != 0 and property_LB != 0):\r\n",
    "                        # keep going\r\n",
    "\r\n",
    "                        # agent info\r\n",
    "                        agent = prop.find('h2').text\r\n",
    "\r\n",
    "                        # phone info\r\n",
    "                        if prop.find('div', class_='ui-atomic-card box-shadow-r123 ui-organisms-card-r123-featured ui-organisms-card-r123-featured--premier') is None:\r\n",
    "                            phone_number = prop.find('div', class_='ui-atomic-card box-shadow-r123 ui-organisms-card-r123-featured')['phonenumber']\r\n",
    "                        else:\r\n",
    "                            phone_number = prop.find('div', class_='ui-atomic-card box-shadow-r123 ui-organisms-card-r123-featured ui-organisms-card-r123-featured--premier')['phonenumber']    \r\n",
    "                        \r\n",
    "                        phone_number = \"+\" + phone_number\r\n",
    "\r\n",
    "                        # property type info\r\n",
    "                        property_type = prop.find('div', class_='relative ui-col-12').text\r\n",
    "\r\n",
    "                        # location info\r\n",
    "                        property_location = property_featured_title.find('span', class_='ui-atomic-text ui-atomic-text--styling-default ui-atomic-text--typeface-primary ui-atomic-link--children').text\r\n",
    "\r\n",
    "                        # price info\r\n",
    "                        property_price_card = prop.find('div', class_='flex flex-align-baseline ui-organisms-card-r123-featured__price-info')\r\n",
    "                        property_price = convert_harga_to_int(property_price_card.find('a', class_='ui-atomic-link ui-atomic-link--styling-underline-none').text)\r\n",
    "                        \r\n",
    "                        # creating object\r\n",
    "                        coordinates = geocoder.geocode(str(property_location))\r\n",
    "                        latitude = -2.4833826 if coordinates is None else coordinates.latitude\r\n",
    "                        longitude = 117.8902853 if coordinates is None else coordinates.longitude\r\n",
    "                        newHouse = HouseData(property_title, agent, property_location, latitude, longitude, phone_number, property_type, int(property_LT), int(property_LB), property_price, km, kt, garasi)\r\n",
    "                        # newHouse.printObject()\r\n",
    "                        listOfHouse.append(newHouse)\r\n",
    "                        # wait 2 second\r\n",
    "                        time.sleep(2)\r\n",
    "                    else:\r\n",
    "                        # we don't need bad data\r\n",
    "                        pass\r\n",
    "                \r\n",
    "                except (AttributeError):\r\n",
    "                    # listing other than house type\r\n",
    "                    pass\r\n",
    "                except Exception as e:\r\n",
    "                    print(e)\r\n",
    "            i+=1\r\n",
    "            \r\n",
    "        except Exception as e:\r\n",
    "            print(\"\\n\")\r\n",
    "            print('Error:', e)\r\n",
    "            print(\"Error or Page finished\")\r\n",
    "            break\r\n",
    "        \r\n",
    "            \r\n",
    "    print(\"\\n\")\r\n",
    "    print(f\"Scraping page from {firstpage} until {lastpage} has finished!\")"
   ],
   "outputs": [],
   "metadata": {}
  },
  {
   "cell_type": "markdown",
   "source": [
    "## Create HouseData object list(s)"
   ],
   "metadata": {}
  },
  {
   "cell_type": "code",
   "execution_count": 56,
   "source": [
    "object1 = []\r\n",
    "object2 = []"
   ],
   "outputs": [],
   "metadata": {}
  },
  {
   "cell_type": "markdown",
   "source": [
    "## Testing the web scraper function\r\n",
    "\r\n",
    "This testing is done to make sure the web scraper isn't blocked by the website and is able to get data from the website"
   ],
   "metadata": {}
  },
  {
   "cell_type": "code",
   "execution_count": 53,
   "source": [
    "# testing to test if i'm blocked from the web\r\n",
    "test = []\r\n",
    "scrapeweb(test, 1,1)"
   ],
   "outputs": [
    {
     "output_type": "stream",
     "name": "stdout",
     "text": [
      "Scraping https://www.rumah123.com/jual/rumah/?page=1 ...\n",
      "\n"
     ]
    },
    {
     "output_type": "stream",
     "name": "stderr",
     "text": [
      "100%|██████████| 20/20 [00:42<00:00,  2.13s/it]"
     ]
    },
    {
     "output_type": "stream",
     "name": "stdout",
     "text": [
      "\n",
      "\n",
      "Scraping page from 1 until 1 has finished!\n"
     ]
    },
    {
     "output_type": "stream",
     "name": "stderr",
     "text": [
      "\n"
     ]
    }
   ],
   "metadata": {}
  },
  {
   "cell_type": "code",
   "execution_count": 54,
   "source": [
    "# if len > 0, means we're not blocked\r\n",
    "len(test)"
   ],
   "outputs": [
    {
     "output_type": "execute_result",
     "data": {
      "text/plain": [
       "18"
      ]
     },
     "metadata": {},
     "execution_count": 54
    }
   ],
   "metadata": {}
  },
  {
   "cell_type": "markdown",
   "source": [
    "## Scraping rumah123.com\r\n",
    "The actual scraping. In order to not overload the website, I scraped the website with some intervals. This is done so that we don't get blocked because our suspicious requests made to the website"
   ],
   "metadata": {}
  },
  {
   "cell_type": "code",
   "execution_count": 57,
   "source": [
    "# scraping first 50 pages to obj1\r\n",
    "scrapeweb(object1, 1, 50)"
   ],
   "outputs": [
    {
     "output_type": "stream",
     "name": "stdout",
     "text": [
      "Scraping https://www.rumah123.com/jual/rumah/?page=1 ...\n",
      "\n"
     ]
    },
    {
     "output_type": "stream",
     "name": "stderr",
     "text": [
      "100%|██████████| 20/20 [00:40<00:00,  2.04s/it]\n"
     ]
    },
    {
     "output_type": "stream",
     "name": "stdout",
     "text": [
      "Scraping https://www.rumah123.com/jual/rumah/?page=2 ...\n",
      "\n"
     ]
    },
    {
     "output_type": "stream",
     "name": "stderr",
     "text": [
      "100%|██████████| 20/20 [00:43<00:00,  2.19s/it]\n"
     ]
    },
    {
     "output_type": "stream",
     "name": "stdout",
     "text": [
      "Scraping https://www.rumah123.com/jual/rumah/?page=3 ...\n",
      "\n"
     ]
    },
    {
     "output_type": "stream",
     "name": "stderr",
     "text": [
      "100%|██████████| 20/20 [00:43<00:00,  2.17s/it]\n"
     ]
    },
    {
     "output_type": "stream",
     "name": "stdout",
     "text": [
      "Scraping https://www.rumah123.com/jual/rumah/?page=4 ...\n",
      "\n"
     ]
    },
    {
     "output_type": "stream",
     "name": "stderr",
     "text": [
      "100%|██████████| 20/20 [00:45<00:00,  2.27s/it]\n"
     ]
    },
    {
     "output_type": "stream",
     "name": "stdout",
     "text": [
      "Scraping https://www.rumah123.com/jual/rumah/?page=5 ...\n",
      "\n"
     ]
    },
    {
     "output_type": "stream",
     "name": "stderr",
     "text": [
      "100%|██████████| 20/20 [00:36<00:00,  1.82s/it]\n"
     ]
    },
    {
     "output_type": "stream",
     "name": "stdout",
     "text": [
      "Scraping https://www.rumah123.com/jual/rumah/?page=6 ...\n",
      "\n"
     ]
    },
    {
     "output_type": "stream",
     "name": "stderr",
     "text": [
      "100%|██████████| 20/20 [00:45<00:00,  2.26s/it]\n"
     ]
    },
    {
     "output_type": "stream",
     "name": "stdout",
     "text": [
      "Scraping https://www.rumah123.com/jual/rumah/?page=7 ...\n",
      "\n"
     ]
    },
    {
     "output_type": "stream",
     "name": "stderr",
     "text": [
      "100%|██████████| 20/20 [00:46<00:00,  2.31s/it]\n"
     ]
    },
    {
     "output_type": "stream",
     "name": "stdout",
     "text": [
      "Scraping https://www.rumah123.com/jual/rumah/?page=8 ...\n",
      "\n"
     ]
    },
    {
     "output_type": "stream",
     "name": "stderr",
     "text": [
      "100%|██████████| 20/20 [00:45<00:00,  2.26s/it]\n"
     ]
    },
    {
     "output_type": "stream",
     "name": "stdout",
     "text": [
      "Scraping https://www.rumah123.com/jual/rumah/?page=9 ...\n",
      "\n"
     ]
    },
    {
     "output_type": "stream",
     "name": "stderr",
     "text": [
      "100%|██████████| 20/20 [00:38<00:00,  1.93s/it]\n"
     ]
    },
    {
     "output_type": "stream",
     "name": "stdout",
     "text": [
      "Scraping https://www.rumah123.com/jual/rumah/?page=10 ...\n",
      "\n"
     ]
    },
    {
     "output_type": "stream",
     "name": "stderr",
     "text": [
      "100%|██████████| 20/20 [00:29<00:00,  1.48s/it]\n"
     ]
    },
    {
     "output_type": "stream",
     "name": "stdout",
     "text": [
      "Scraping https://www.rumah123.com/jual/rumah/?page=11 ...\n",
      "\n"
     ]
    },
    {
     "output_type": "stream",
     "name": "stderr",
     "text": [
      "100%|██████████| 20/20 [00:43<00:00,  2.19s/it]\n"
     ]
    },
    {
     "output_type": "stream",
     "name": "stdout",
     "text": [
      "Scraping https://www.rumah123.com/jual/rumah/?page=12 ...\n",
      "\n"
     ]
    },
    {
     "output_type": "stream",
     "name": "stderr",
     "text": [
      "100%|██████████| 20/20 [00:45<00:00,  2.27s/it]\n"
     ]
    },
    {
     "output_type": "stream",
     "name": "stdout",
     "text": [
      "Scraping https://www.rumah123.com/jual/rumah/?page=13 ...\n",
      "\n"
     ]
    },
    {
     "output_type": "stream",
     "name": "stderr",
     "text": [
      "100%|██████████| 20/20 [00:34<00:00,  1.71s/it]\n"
     ]
    },
    {
     "output_type": "stream",
     "name": "stdout",
     "text": [
      "Scraping https://www.rumah123.com/jual/rumah/?page=14 ...\n",
      "\n"
     ]
    },
    {
     "output_type": "stream",
     "name": "stderr",
     "text": [
      "100%|██████████| 20/20 [00:42<00:00,  2.14s/it]\n"
     ]
    },
    {
     "output_type": "stream",
     "name": "stdout",
     "text": [
      "Scraping https://www.rumah123.com/jual/rumah/?page=15 ...\n",
      "\n"
     ]
    },
    {
     "output_type": "stream",
     "name": "stderr",
     "text": [
      "100%|██████████| 20/20 [00:36<00:00,  1.83s/it]\n"
     ]
    },
    {
     "output_type": "stream",
     "name": "stdout",
     "text": [
      "Scraping https://www.rumah123.com/jual/rumah/?page=16 ...\n",
      "\n"
     ]
    },
    {
     "output_type": "stream",
     "name": "stderr",
     "text": [
      "100%|██████████| 20/20 [00:41<00:00,  2.05s/it]\n"
     ]
    },
    {
     "output_type": "stream",
     "name": "stdout",
     "text": [
      "Scraping https://www.rumah123.com/jual/rumah/?page=17 ...\n",
      "\n"
     ]
    },
    {
     "output_type": "stream",
     "name": "stderr",
     "text": [
      "100%|██████████| 20/20 [00:40<00:00,  2.02s/it]\n"
     ]
    },
    {
     "output_type": "stream",
     "name": "stdout",
     "text": [
      "Scraping https://www.rumah123.com/jual/rumah/?page=18 ...\n",
      "\n"
     ]
    },
    {
     "output_type": "stream",
     "name": "stderr",
     "text": [
      "100%|██████████| 20/20 [00:38<00:00,  1.91s/it]\n"
     ]
    },
    {
     "output_type": "stream",
     "name": "stdout",
     "text": [
      "Scraping https://www.rumah123.com/jual/rumah/?page=19 ...\n",
      "\n"
     ]
    },
    {
     "output_type": "stream",
     "name": "stderr",
     "text": [
      "100%|██████████| 20/20 [00:44<00:00,  2.23s/it]\n"
     ]
    },
    {
     "output_type": "stream",
     "name": "stdout",
     "text": [
      "Scraping https://www.rumah123.com/jual/rumah/?page=20 ...\n",
      "\n"
     ]
    },
    {
     "output_type": "stream",
     "name": "stderr",
     "text": [
      "100%|██████████| 20/20 [00:45<00:00,  2.28s/it]\n"
     ]
    },
    {
     "output_type": "stream",
     "name": "stdout",
     "text": [
      "Scraping https://www.rumah123.com/jual/rumah/?page=21 ...\n",
      "\n"
     ]
    },
    {
     "output_type": "stream",
     "name": "stderr",
     "text": [
      "100%|██████████| 20/20 [00:45<00:00,  2.25s/it]\n"
     ]
    },
    {
     "output_type": "stream",
     "name": "stdout",
     "text": [
      "Scraping https://www.rumah123.com/jual/rumah/?page=22 ...\n",
      "\n"
     ]
    },
    {
     "output_type": "stream",
     "name": "stderr",
     "text": [
      "100%|██████████| 20/20 [00:45<00:00,  2.26s/it]\n"
     ]
    },
    {
     "output_type": "stream",
     "name": "stdout",
     "text": [
      "Scraping https://www.rumah123.com/jual/rumah/?page=23 ...\n",
      "\n"
     ]
    },
    {
     "output_type": "stream",
     "name": "stderr",
     "text": [
      "100%|██████████| 20/20 [00:42<00:00,  2.15s/it]\n"
     ]
    },
    {
     "output_type": "stream",
     "name": "stdout",
     "text": [
      "Scraping https://www.rumah123.com/jual/rumah/?page=24 ...\n",
      "\n"
     ]
    },
    {
     "output_type": "stream",
     "name": "stderr",
     "text": [
      "100%|██████████| 20/20 [00:45<00:00,  2.26s/it]\n"
     ]
    },
    {
     "output_type": "stream",
     "name": "stdout",
     "text": [
      "Scraping https://www.rumah123.com/jual/rumah/?page=25 ...\n",
      "\n"
     ]
    },
    {
     "output_type": "stream",
     "name": "stderr",
     "text": [
      "100%|██████████| 20/20 [00:40<00:00,  2.02s/it]\n"
     ]
    },
    {
     "output_type": "stream",
     "name": "stdout",
     "text": [
      "Scraping https://www.rumah123.com/jual/rumah/?page=26 ...\n",
      "\n"
     ]
    },
    {
     "output_type": "stream",
     "name": "stderr",
     "text": [
      "100%|██████████| 20/20 [00:35<00:00,  1.80s/it]\n"
     ]
    },
    {
     "output_type": "stream",
     "name": "stdout",
     "text": [
      "Scraping https://www.rumah123.com/jual/rumah/?page=27 ...\n",
      "\n"
     ]
    },
    {
     "output_type": "stream",
     "name": "stderr",
     "text": [
      "100%|██████████| 20/20 [00:44<00:00,  2.25s/it]\n"
     ]
    },
    {
     "output_type": "stream",
     "name": "stdout",
     "text": [
      "Scraping https://www.rumah123.com/jual/rumah/?page=28 ...\n",
      "\n"
     ]
    },
    {
     "output_type": "stream",
     "name": "stderr",
     "text": [
      "100%|██████████| 20/20 [00:45<00:00,  2.27s/it]\n"
     ]
    },
    {
     "output_type": "stream",
     "name": "stdout",
     "text": [
      "Scraping https://www.rumah123.com/jual/rumah/?page=29 ...\n",
      "\n"
     ]
    },
    {
     "output_type": "stream",
     "name": "stderr",
     "text": [
      "100%|██████████| 20/20 [00:45<00:00,  2.29s/it]\n"
     ]
    },
    {
     "output_type": "stream",
     "name": "stdout",
     "text": [
      "Scraping https://www.rumah123.com/jual/rumah/?page=30 ...\n",
      "\n"
     ]
    },
    {
     "output_type": "stream",
     "name": "stderr",
     "text": [
      "100%|██████████| 20/20 [00:38<00:00,  1.92s/it]\n"
     ]
    },
    {
     "output_type": "stream",
     "name": "stdout",
     "text": [
      "Scraping https://www.rumah123.com/jual/rumah/?page=31 ...\n",
      "\n"
     ]
    },
    {
     "output_type": "stream",
     "name": "stderr",
     "text": [
      "100%|██████████| 20/20 [00:43<00:00,  2.16s/it]\n"
     ]
    },
    {
     "output_type": "stream",
     "name": "stdout",
     "text": [
      "Scraping https://www.rumah123.com/jual/rumah/?page=32 ...\n",
      "\n"
     ]
    },
    {
     "output_type": "stream",
     "name": "stderr",
     "text": [
      "100%|██████████| 20/20 [00:43<00:00,  2.15s/it]\n"
     ]
    },
    {
     "output_type": "stream",
     "name": "stdout",
     "text": [
      "Scraping https://www.rumah123.com/jual/rumah/?page=33 ...\n",
      "\n"
     ]
    },
    {
     "output_type": "stream",
     "name": "stderr",
     "text": [
      "100%|██████████| 20/20 [00:45<00:00,  2.26s/it]\n"
     ]
    },
    {
     "output_type": "stream",
     "name": "stdout",
     "text": [
      "Scraping https://www.rumah123.com/jual/rumah/?page=34 ...\n",
      "\n"
     ]
    },
    {
     "output_type": "stream",
     "name": "stderr",
     "text": [
      "100%|██████████| 20/20 [00:40<00:00,  2.03s/it]\n"
     ]
    },
    {
     "output_type": "stream",
     "name": "stdout",
     "text": [
      "Scraping https://www.rumah123.com/jual/rumah/?page=35 ...\n",
      "\n"
     ]
    },
    {
     "output_type": "stream",
     "name": "stderr",
     "text": [
      "100%|██████████| 20/20 [00:45<00:00,  2.25s/it]\n"
     ]
    },
    {
     "output_type": "stream",
     "name": "stdout",
     "text": [
      "Scraping https://www.rumah123.com/jual/rumah/?page=36 ...\n",
      "\n"
     ]
    },
    {
     "output_type": "stream",
     "name": "stderr",
     "text": [
      "100%|██████████| 20/20 [00:43<00:00,  2.16s/it]\n"
     ]
    },
    {
     "output_type": "stream",
     "name": "stdout",
     "text": [
      "Scraping https://www.rumah123.com/jual/rumah/?page=37 ...\n",
      "\n"
     ]
    },
    {
     "output_type": "stream",
     "name": "stderr",
     "text": [
      "100%|██████████| 20/20 [00:45<00:00,  2.26s/it]\n"
     ]
    },
    {
     "output_type": "stream",
     "name": "stdout",
     "text": [
      "Scraping https://www.rumah123.com/jual/rumah/?page=38 ...\n",
      "\n"
     ]
    },
    {
     "output_type": "stream",
     "name": "stderr",
     "text": [
      "100%|██████████| 20/20 [00:45<00:00,  2.28s/it]\n"
     ]
    },
    {
     "output_type": "stream",
     "name": "stdout",
     "text": [
      "Scraping https://www.rumah123.com/jual/rumah/?page=39 ...\n",
      "\n"
     ]
    },
    {
     "output_type": "stream",
     "name": "stderr",
     "text": [
      "100%|██████████| 20/20 [00:45<00:00,  2.26s/it]\n"
     ]
    },
    {
     "output_type": "stream",
     "name": "stdout",
     "text": [
      "Scraping https://www.rumah123.com/jual/rumah/?page=40 ...\n",
      "\n"
     ]
    },
    {
     "output_type": "stream",
     "name": "stderr",
     "text": [
      "100%|██████████| 20/20 [00:45<00:00,  2.25s/it]\n"
     ]
    },
    {
     "output_type": "stream",
     "name": "stdout",
     "text": [
      "Scraping https://www.rumah123.com/jual/rumah/?page=41 ...\n",
      "\n"
     ]
    },
    {
     "output_type": "stream",
     "name": "stderr",
     "text": [
      "100%|██████████| 20/20 [00:42<00:00,  2.15s/it]\n"
     ]
    },
    {
     "output_type": "stream",
     "name": "stdout",
     "text": [
      "Scraping https://www.rumah123.com/jual/rumah/?page=42 ...\n",
      "\n"
     ]
    },
    {
     "output_type": "stream",
     "name": "stderr",
     "text": [
      "100%|██████████| 20/20 [00:40<00:00,  2.04s/it]\n"
     ]
    },
    {
     "output_type": "stream",
     "name": "stdout",
     "text": [
      "Scraping https://www.rumah123.com/jual/rumah/?page=43 ...\n",
      "\n"
     ]
    },
    {
     "output_type": "stream",
     "name": "stderr",
     "text": [
      "100%|██████████| 20/20 [00:43<00:00,  2.18s/it]\n"
     ]
    },
    {
     "output_type": "stream",
     "name": "stdout",
     "text": [
      "Scraping https://www.rumah123.com/jual/rumah/?page=44 ...\n",
      "\n"
     ]
    },
    {
     "output_type": "stream",
     "name": "stderr",
     "text": [
      "100%|██████████| 20/20 [00:43<00:00,  2.18s/it]\n"
     ]
    },
    {
     "output_type": "stream",
     "name": "stdout",
     "text": [
      "Scraping https://www.rumah123.com/jual/rumah/?page=45 ...\n",
      "\n"
     ]
    },
    {
     "output_type": "stream",
     "name": "stderr",
     "text": [
      "100%|██████████| 20/20 [00:45<00:00,  2.28s/it]\n"
     ]
    },
    {
     "output_type": "stream",
     "name": "stdout",
     "text": [
      "Scraping https://www.rumah123.com/jual/rumah/?page=46 ...\n",
      "\n"
     ]
    },
    {
     "output_type": "stream",
     "name": "stderr",
     "text": [
      "100%|██████████| 20/20 [00:43<00:00,  2.18s/it]\n"
     ]
    },
    {
     "output_type": "stream",
     "name": "stdout",
     "text": [
      "Scraping https://www.rumah123.com/jual/rumah/?page=47 ...\n",
      "\n"
     ]
    },
    {
     "output_type": "stream",
     "name": "stderr",
     "text": [
      "100%|██████████| 20/20 [00:45<00:00,  2.26s/it]\n"
     ]
    },
    {
     "output_type": "stream",
     "name": "stdout",
     "text": [
      "Scraping https://www.rumah123.com/jual/rumah/?page=48 ...\n",
      "\n"
     ]
    },
    {
     "output_type": "stream",
     "name": "stderr",
     "text": [
      "100%|██████████| 20/20 [00:40<00:00,  2.03s/it]\n"
     ]
    },
    {
     "output_type": "stream",
     "name": "stdout",
     "text": [
      "Scraping https://www.rumah123.com/jual/rumah/?page=49 ...\n",
      "\n"
     ]
    },
    {
     "output_type": "stream",
     "name": "stderr",
     "text": [
      "100%|██████████| 20/20 [00:45<00:00,  2.26s/it]\n"
     ]
    },
    {
     "output_type": "stream",
     "name": "stdout",
     "text": [
      "Scraping https://www.rumah123.com/jual/rumah/?page=50 ...\n",
      "\n"
     ]
    },
    {
     "output_type": "stream",
     "name": "stderr",
     "text": [
      "100%|██████████| 20/20 [00:45<00:00,  2.26s/it]"
     ]
    },
    {
     "output_type": "stream",
     "name": "stdout",
     "text": [
      "\n",
      "\n",
      "Scraping page from 1 until 50 has finished!\n"
     ]
    },
    {
     "output_type": "stream",
     "name": "stderr",
     "text": [
      "\n"
     ]
    }
   ],
   "metadata": {}
  },
  {
   "cell_type": "code",
   "execution_count": 71,
   "source": [
    "# checking if scraping is successful, length must be > 0\r\n",
    "len(object1)"
   ],
   "outputs": [
    {
     "output_type": "execute_result",
     "data": {
      "text/plain": [
       "941"
      ]
     },
     "metadata": {},
     "execution_count": 71
    }
   ],
   "metadata": {}
  },
  {
   "cell_type": "markdown",
   "source": [
    "## Web Scrape 2nd Interval"
   ],
   "metadata": {}
  },
  {
   "cell_type": "code",
   "execution_count": 65,
   "source": [
    "scrapeweb(object2, 51,70)"
   ],
   "outputs": [
    {
     "output_type": "stream",
     "name": "stdout",
     "text": [
      "Scraping https://www.rumah123.com/jual/rumah/?page=51 ...\n",
      "\n"
     ]
    },
    {
     "output_type": "stream",
     "name": "stderr",
     "text": [
      "100%|██████████| 20/20 [00:44<00:00,  2.24s/it]\n"
     ]
    },
    {
     "output_type": "stream",
     "name": "stdout",
     "text": [
      "Scraping https://www.rumah123.com/jual/rumah/?page=52 ...\n",
      "\n"
     ]
    },
    {
     "output_type": "stream",
     "name": "stderr",
     "text": [
      "100%|██████████| 20/20 [00:44<00:00,  2.24s/it]\n"
     ]
    },
    {
     "output_type": "stream",
     "name": "stdout",
     "text": [
      "Scraping https://www.rumah123.com/jual/rumah/?page=53 ...\n",
      "\n"
     ]
    },
    {
     "output_type": "stream",
     "name": "stderr",
     "text": [
      "100%|██████████| 20/20 [00:44<00:00,  2.24s/it]\n"
     ]
    },
    {
     "output_type": "stream",
     "name": "stdout",
     "text": [
      "Scraping https://www.rumah123.com/jual/rumah/?page=54 ...\n",
      "\n"
     ]
    },
    {
     "output_type": "stream",
     "name": "stderr",
     "text": [
      "100%|██████████| 20/20 [00:42<00:00,  2.11s/it]\n"
     ]
    },
    {
     "output_type": "stream",
     "name": "stdout",
     "text": [
      "Scraping https://www.rumah123.com/jual/rumah/?page=55 ...\n",
      "\n"
     ]
    },
    {
     "output_type": "stream",
     "name": "stderr",
     "text": [
      "100%|██████████| 20/20 [00:42<00:00,  2.11s/it]\n"
     ]
    },
    {
     "output_type": "stream",
     "name": "stdout",
     "text": [
      "Scraping https://www.rumah123.com/jual/rumah/?page=56 ...\n",
      "\n"
     ]
    },
    {
     "output_type": "stream",
     "name": "stderr",
     "text": [
      "100%|██████████| 20/20 [00:35<00:00,  1.78s/it]\n"
     ]
    },
    {
     "output_type": "stream",
     "name": "stdout",
     "text": [
      "Scraping https://www.rumah123.com/jual/rumah/?page=57 ...\n",
      "\n"
     ]
    },
    {
     "output_type": "stream",
     "name": "stderr",
     "text": [
      "100%|██████████| 20/20 [00:44<00:00,  2.21s/it]\n"
     ]
    },
    {
     "output_type": "stream",
     "name": "stdout",
     "text": [
      "Scraping https://www.rumah123.com/jual/rumah/?page=58 ...\n",
      "\n"
     ]
    },
    {
     "output_type": "stream",
     "name": "stderr",
     "text": [
      "100%|██████████| 20/20 [00:42<00:00,  2.11s/it]\n"
     ]
    },
    {
     "output_type": "stream",
     "name": "stdout",
     "text": [
      "Scraping https://www.rumah123.com/jual/rumah/?page=59 ...\n",
      "\n"
     ]
    },
    {
     "output_type": "stream",
     "name": "stderr",
     "text": [
      "100%|██████████| 20/20 [00:43<00:00,  2.15s/it]\n"
     ]
    },
    {
     "output_type": "stream",
     "name": "stdout",
     "text": [
      "Scraping https://www.rumah123.com/jual/rumah/?page=60 ...\n",
      "\n"
     ]
    },
    {
     "output_type": "stream",
     "name": "stderr",
     "text": [
      "100%|██████████| 20/20 [00:44<00:00,  2.23s/it]\n"
     ]
    },
    {
     "output_type": "stream",
     "name": "stdout",
     "text": [
      "Scraping https://www.rumah123.com/jual/rumah/?page=61 ...\n",
      "\n"
     ]
    },
    {
     "output_type": "stream",
     "name": "stderr",
     "text": [
      "100%|██████████| 20/20 [00:44<00:00,  2.22s/it]\n"
     ]
    },
    {
     "output_type": "stream",
     "name": "stdout",
     "text": [
      "Scraping https://www.rumah123.com/jual/rumah/?page=62 ...\n",
      "\n"
     ]
    },
    {
     "output_type": "stream",
     "name": "stderr",
     "text": [
      "100%|██████████| 20/20 [00:44<00:00,  2.24s/it]\n"
     ]
    },
    {
     "output_type": "stream",
     "name": "stdout",
     "text": [
      "Scraping https://www.rumah123.com/jual/rumah/?page=63 ...\n",
      "\n"
     ]
    },
    {
     "output_type": "stream",
     "name": "stderr",
     "text": [
      "100%|██████████| 20/20 [00:44<00:00,  2.22s/it]\n"
     ]
    },
    {
     "output_type": "stream",
     "name": "stdout",
     "text": [
      "Scraping https://www.rumah123.com/jual/rumah/?page=64 ...\n",
      "\n"
     ]
    },
    {
     "output_type": "stream",
     "name": "stderr",
     "text": [
      "100%|██████████| 20/20 [00:35<00:00,  1.77s/it]\n"
     ]
    },
    {
     "output_type": "stream",
     "name": "stdout",
     "text": [
      "Scraping https://www.rumah123.com/jual/rumah/?page=65 ...\n",
      "\n"
     ]
    },
    {
     "output_type": "stream",
     "name": "stderr",
     "text": [
      "100%|██████████| 20/20 [00:40<00:00,  2.01s/it]\n"
     ]
    },
    {
     "output_type": "stream",
     "name": "stdout",
     "text": [
      "Scraping https://www.rumah123.com/jual/rumah/?page=66 ...\n",
      "\n"
     ]
    },
    {
     "output_type": "stream",
     "name": "stderr",
     "text": [
      "100%|██████████| 20/20 [00:42<00:00,  2.11s/it]\n"
     ]
    },
    {
     "output_type": "stream",
     "name": "stdout",
     "text": [
      "Scraping https://www.rumah123.com/jual/rumah/?page=67 ...\n",
      "\n"
     ]
    },
    {
     "output_type": "stream",
     "name": "stderr",
     "text": [
      "100%|██████████| 20/20 [00:40<00:00,  2.01s/it]\n"
     ]
    },
    {
     "output_type": "stream",
     "name": "stdout",
     "text": [
      "Scraping https://www.rumah123.com/jual/rumah/?page=68 ...\n",
      "\n"
     ]
    },
    {
     "output_type": "stream",
     "name": "stderr",
     "text": [
      "100%|██████████| 20/20 [00:44<00:00,  2.23s/it]\n"
     ]
    },
    {
     "output_type": "stream",
     "name": "stdout",
     "text": [
      "Scraping https://www.rumah123.com/jual/rumah/?page=69 ...\n",
      "\n"
     ]
    },
    {
     "output_type": "stream",
     "name": "stderr",
     "text": [
      "100%|██████████| 20/20 [00:44<00:00,  2.23s/it]\n"
     ]
    },
    {
     "output_type": "stream",
     "name": "stdout",
     "text": [
      "Scraping https://www.rumah123.com/jual/rumah/?page=70 ...\n",
      "\n"
     ]
    },
    {
     "output_type": "stream",
     "name": "stderr",
     "text": [
      "100%|██████████| 20/20 [00:42<00:00,  2.12s/it]"
     ]
    },
    {
     "output_type": "stream",
     "name": "stdout",
     "text": [
      "\n",
      "\n",
      "Scraping page from 51 until 70 has finished!\n"
     ]
    },
    {
     "output_type": "stream",
     "name": "stderr",
     "text": [
      "\n"
     ]
    }
   ],
   "metadata": {}
  },
  {
   "cell_type": "code",
   "execution_count": 40,
   "source": [
    "len(object2)"
   ],
   "outputs": [
    {
     "output_type": "execute_result",
     "data": {
      "text/plain": [
       "378"
      ]
     },
     "metadata": {},
     "execution_count": 40
    }
   ],
   "metadata": {}
  },
  {
   "cell_type": "markdown",
   "source": [
    "## Web Scrape 3rd Interval"
   ],
   "metadata": {}
  },
  {
   "cell_type": "code",
   "execution_count": 43,
   "source": [
    "object3 = []\r\n",
    "scrapewebalt(object3, 71, 90)"
   ],
   "outputs": [
    {
     "output_type": "stream",
     "name": "stdout",
     "text": [
      "Scraping https://www.rumah123.com/jual/rumah/?page=71 ...\n",
      "\n"
     ]
    },
    {
     "output_type": "stream",
     "name": "stderr",
     "text": [
      "100%|██████████| 20/20 [01:45<00:00,  5.26s/it]\n"
     ]
    },
    {
     "output_type": "stream",
     "name": "stdout",
     "text": [
      "Scraping https://www.rumah123.com/jual/rumah/?page=72 ...\n",
      "\n"
     ]
    },
    {
     "output_type": "stream",
     "name": "stderr",
     "text": [
      "100%|██████████| 20/20 [01:44<00:00,  5.22s/it]\n"
     ]
    },
    {
     "output_type": "stream",
     "name": "stdout",
     "text": [
      "Scraping https://www.rumah123.com/jual/rumah/?page=73 ...\n",
      "\n"
     ]
    },
    {
     "output_type": "stream",
     "name": "stderr",
     "text": [
      "100%|██████████| 20/20 [01:39<00:00,  5.00s/it]\n"
     ]
    },
    {
     "output_type": "stream",
     "name": "stdout",
     "text": [
      "Scraping https://www.rumah123.com/jual/rumah/?page=74 ...\n",
      "\n"
     ]
    },
    {
     "output_type": "stream",
     "name": "stderr",
     "text": [
      "100%|██████████| 20/20 [01:44<00:00,  5.25s/it]\n"
     ]
    },
    {
     "output_type": "stream",
     "name": "stdout",
     "text": [
      "Scraping https://www.rumah123.com/jual/rumah/?page=75 ...\n",
      "\n"
     ]
    },
    {
     "output_type": "stream",
     "name": "stderr",
     "text": [
      "100%|██████████| 20/20 [01:45<00:00,  5.25s/it]\n"
     ]
    },
    {
     "output_type": "stream",
     "name": "stdout",
     "text": [
      "Scraping https://www.rumah123.com/jual/rumah/?page=76 ...\n",
      "\n"
     ]
    },
    {
     "output_type": "stream",
     "name": "stderr",
     "text": [
      "100%|██████████| 20/20 [01:44<00:00,  5.24s/it]\n"
     ]
    },
    {
     "output_type": "stream",
     "name": "stdout",
     "text": [
      "Scraping https://www.rumah123.com/jual/rumah/?page=77 ...\n",
      "\n"
     ]
    },
    {
     "output_type": "stream",
     "name": "stderr",
     "text": [
      "100%|██████████| 20/20 [01:45<00:00,  5.26s/it]\n"
     ]
    },
    {
     "output_type": "stream",
     "name": "stdout",
     "text": [
      "Scraping https://www.rumah123.com/jual/rumah/?page=78 ...\n",
      "\n"
     ]
    },
    {
     "output_type": "stream",
     "name": "stderr",
     "text": [
      "100%|██████████| 20/20 [01:45<00:00,  5.27s/it]\n"
     ]
    },
    {
     "output_type": "stream",
     "name": "stdout",
     "text": [
      "Scraping https://www.rumah123.com/jual/rumah/?page=79 ...\n",
      "\n"
     ]
    },
    {
     "output_type": "stream",
     "name": "stderr",
     "text": [
      "100%|██████████| 20/20 [01:44<00:00,  5.24s/it]\n"
     ]
    },
    {
     "output_type": "stream",
     "name": "stdout",
     "text": [
      "Scraping https://www.rumah123.com/jual/rumah/?page=80 ...\n",
      "\n"
     ]
    },
    {
     "output_type": "stream",
     "name": "stderr",
     "text": [
      "100%|██████████| 20/20 [01:45<00:00,  5.26s/it]\n"
     ]
    },
    {
     "output_type": "stream",
     "name": "stdout",
     "text": [
      "Scraping https://www.rumah123.com/jual/rumah/?page=81 ...\n",
      "\n"
     ]
    },
    {
     "output_type": "stream",
     "name": "stderr",
     "text": [
      "100%|██████████| 20/20 [01:44<00:00,  5.23s/it]\n"
     ]
    },
    {
     "output_type": "stream",
     "name": "stdout",
     "text": [
      "Scraping https://www.rumah123.com/jual/rumah/?page=82 ...\n",
      "\n"
     ]
    },
    {
     "output_type": "stream",
     "name": "stderr",
     "text": [
      "100%|██████████| 20/20 [01:45<00:00,  5.28s/it]\n"
     ]
    },
    {
     "output_type": "stream",
     "name": "stdout",
     "text": [
      "Scraping https://www.rumah123.com/jual/rumah/?page=83 ...\n",
      "\n"
     ]
    },
    {
     "output_type": "stream",
     "name": "stderr",
     "text": [
      "100%|██████████| 20/20 [01:18<00:00,  3.95s/it]\n"
     ]
    },
    {
     "output_type": "stream",
     "name": "stdout",
     "text": [
      "Scraping https://www.rumah123.com/jual/rumah/?page=84 ...\n",
      "\n"
     ]
    },
    {
     "output_type": "stream",
     "name": "stderr",
     "text": [
      "100%|██████████| 20/20 [01:39<00:00,  4.99s/it]\n"
     ]
    },
    {
     "output_type": "stream",
     "name": "stdout",
     "text": [
      "Scraping https://www.rumah123.com/jual/rumah/?page=85 ...\n",
      "\n"
     ]
    },
    {
     "output_type": "stream",
     "name": "stderr",
     "text": [
      "100%|██████████| 20/20 [01:40<00:00,  5.01s/it]\n"
     ]
    },
    {
     "output_type": "stream",
     "name": "stdout",
     "text": [
      "Scraping https://www.rumah123.com/jual/rumah/?page=86 ...\n",
      "\n"
     ]
    },
    {
     "output_type": "stream",
     "name": "stderr",
     "text": [
      "100%|██████████| 20/20 [01:45<00:00,  5.27s/it]\n"
     ]
    },
    {
     "output_type": "stream",
     "name": "stdout",
     "text": [
      "Scraping https://www.rumah123.com/jual/rumah/?page=87 ...\n",
      "\n"
     ]
    },
    {
     "output_type": "stream",
     "name": "stderr",
     "text": [
      "100%|██████████| 20/20 [01:34<00:00,  4.71s/it]\n"
     ]
    },
    {
     "output_type": "stream",
     "name": "stdout",
     "text": [
      "Scraping https://www.rumah123.com/jual/rumah/?page=88 ...\n",
      "\n"
     ]
    },
    {
     "output_type": "stream",
     "name": "stderr",
     "text": [
      "100%|██████████| 20/20 [01:41<00:00,  5.05s/it]\n"
     ]
    },
    {
     "output_type": "stream",
     "name": "stdout",
     "text": [
      "Scraping https://www.rumah123.com/jual/rumah/?page=89 ...\n",
      "\n"
     ]
    },
    {
     "output_type": "stream",
     "name": "stderr",
     "text": [
      " 30%|███       | 6/20 [00:31<01:12,  5.17s/it]"
     ]
    },
    {
     "output_type": "stream",
     "name": "stdout",
     "text": [
      "HTTPSConnectionPool(host='nominatim.openstreetmap.org', port=443): Max retries exceeded with url: /search?q=Jati+Asih%2C+Bekasi&format=json&limit=1 (Caused by ReadTimeoutError(\"HTTPSConnectionPool(host='nominatim.openstreetmap.org', port=443): Read timed out. (read timeout=1)\"))\n"
     ]
    },
    {
     "output_type": "stream",
     "name": "stderr",
     "text": [
      "100%|██████████| 20/20 [01:35<00:00,  4.79s/it]\n"
     ]
    },
    {
     "output_type": "stream",
     "name": "stdout",
     "text": [
      "Scraping https://www.rumah123.com/jual/rumah/?page=90 ...\n",
      "\n"
     ]
    },
    {
     "output_type": "stream",
     "name": "stderr",
     "text": [
      "100%|██████████| 20/20 [01:44<00:00,  5.23s/it]"
     ]
    },
    {
     "output_type": "stream",
     "name": "stdout",
     "text": [
      "\n",
      "\n",
      "Scraping page from 71 until 90 has finished!\n"
     ]
    },
    {
     "output_type": "stream",
     "name": "stderr",
     "text": [
      "\n"
     ]
    }
   ],
   "metadata": {}
  },
  {
   "cell_type": "code",
   "execution_count": 66,
   "source": [
    "len(object3)"
   ],
   "outputs": [
    {
     "output_type": "execute_result",
     "data": {
      "text/plain": [
       "386"
      ]
     },
     "metadata": {},
     "execution_count": 66
    }
   ],
   "metadata": {}
  },
  {
   "cell_type": "markdown",
   "source": [
    "## Web Scrape 4th (and final) Interval"
   ],
   "metadata": {}
  },
  {
   "cell_type": "code",
   "execution_count": 67,
   "source": [
    "object4 = []\r\n",
    "scrapeweb(object4, 91, 100)"
   ],
   "outputs": [
    {
     "output_type": "stream",
     "name": "stdout",
     "text": [
      "Scraping https://www.rumah123.com/jual/rumah/?page=91 ...\n",
      "\n"
     ]
    },
    {
     "output_type": "stream",
     "name": "stderr",
     "text": [
      "100%|██████████| 20/20 [00:46<00:00,  2.32s/it]\n"
     ]
    },
    {
     "output_type": "stream",
     "name": "stdout",
     "text": [
      "Scraping https://www.rumah123.com/jual/rumah/?page=92 ...\n",
      "\n"
     ]
    },
    {
     "output_type": "stream",
     "name": "stderr",
     "text": [
      "100%|██████████| 20/20 [00:40<00:00,  2.03s/it]\n"
     ]
    },
    {
     "output_type": "stream",
     "name": "stdout",
     "text": [
      "Scraping https://www.rumah123.com/jual/rumah/?page=93 ...\n",
      "\n"
     ]
    },
    {
     "output_type": "stream",
     "name": "stderr",
     "text": [
      "100%|██████████| 20/20 [00:42<00:00,  2.13s/it]\n"
     ]
    },
    {
     "output_type": "stream",
     "name": "stdout",
     "text": [
      "Scraping https://www.rumah123.com/jual/rumah/?page=94 ...\n",
      "\n"
     ]
    },
    {
     "output_type": "stream",
     "name": "stderr",
     "text": [
      "100%|██████████| 20/20 [00:40<00:00,  2.04s/it]\n"
     ]
    },
    {
     "output_type": "stream",
     "name": "stdout",
     "text": [
      "Scraping https://www.rumah123.com/jual/rumah/?page=95 ...\n",
      "\n"
     ]
    },
    {
     "output_type": "stream",
     "name": "stderr",
     "text": [
      "100%|██████████| 20/20 [00:45<00:00,  2.26s/it]\n"
     ]
    },
    {
     "output_type": "stream",
     "name": "stdout",
     "text": [
      "Scraping https://www.rumah123.com/jual/rumah/?page=96 ...\n",
      "\n"
     ]
    },
    {
     "output_type": "stream",
     "name": "stderr",
     "text": [
      "100%|██████████| 20/20 [00:43<00:00,  2.18s/it]\n"
     ]
    },
    {
     "output_type": "stream",
     "name": "stdout",
     "text": [
      "Scraping https://www.rumah123.com/jual/rumah/?page=97 ...\n",
      "\n"
     ]
    },
    {
     "output_type": "stream",
     "name": "stderr",
     "text": [
      "100%|██████████| 20/20 [00:44<00:00,  2.25s/it]\n"
     ]
    },
    {
     "output_type": "stream",
     "name": "stdout",
     "text": [
      "Scraping https://www.rumah123.com/jual/rumah/?page=98 ...\n",
      "\n"
     ]
    },
    {
     "output_type": "stream",
     "name": "stderr",
     "text": [
      "100%|██████████| 20/20 [00:42<00:00,  2.14s/it]\n"
     ]
    },
    {
     "output_type": "stream",
     "name": "stdout",
     "text": [
      "Scraping https://www.rumah123.com/jual/rumah/?page=99 ...\n",
      "\n"
     ]
    },
    {
     "output_type": "stream",
     "name": "stderr",
     "text": [
      "100%|██████████| 20/20 [00:45<00:00,  2.28s/it]\n"
     ]
    },
    {
     "output_type": "stream",
     "name": "stdout",
     "text": [
      "Scraping https://www.rumah123.com/jual/rumah/?page=100 ...\n",
      "\n"
     ]
    },
    {
     "output_type": "stream",
     "name": "stderr",
     "text": [
      "100%|██████████| 20/20 [00:43<00:00,  2.17s/it]"
     ]
    },
    {
     "output_type": "stream",
     "name": "stdout",
     "text": [
      "\n",
      "\n",
      "Scraping page from 91 until 100 has finished!\n"
     ]
    },
    {
     "output_type": "stream",
     "name": "stderr",
     "text": [
      "\n"
     ]
    }
   ],
   "metadata": {}
  },
  {
   "cell_type": "markdown",
   "source": [
    "## Data Preprocessing\r\n",
    "\r\n",
    "Because all the data are valid, we only need to concatenate the HouseData object list into a single list"
   ],
   "metadata": {}
  },
  {
   "cell_type": "code",
   "execution_count": 68,
   "source": [
    "# merging all object lists and checking overall length\r\n",
    "listObj = object1+object2+object3+object4\r\n",
    "len(listObj)"
   ],
   "outputs": [
    {
     "output_type": "execute_result",
     "data": {
      "text/plain": [
       "1905"
      ]
     },
     "metadata": {},
     "execution_count": 68
    }
   ],
   "metadata": {}
  },
  {
   "cell_type": "markdown",
   "source": [
    "## Output the list into JSON format\r\n",
    "\r\n",
    "In order to convert a list of HouseData objects into a JSON format, we can use json.dump method provided by the JSON python library. We pass a list comprehenssion syntax [obj.__dict___ for obj in listObj] to generate a dictionary of all the objects inside the list, and output it to a JSON file 'Rumah123 Housing Data.json'"
   ],
   "metadata": {}
  },
  {
   "cell_type": "code",
   "execution_count": 69,
   "source": [
    "# convert list of objects to json format\r\n",
    "with open('Rumah123 Housing Data.json', 'w') as f:\r\n",
    "        json.dump([obj.__dict__ for obj in listObj], f, indent=4)"
   ],
   "outputs": [],
   "metadata": {}
  },
  {
   "cell_type": "code",
   "execution_count": null,
   "source": [],
   "outputs": [],
   "metadata": {}
  }
 ]
}